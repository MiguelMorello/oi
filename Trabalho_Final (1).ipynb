{
  "nbformat": 4,
  "nbformat_minor": 0,
  "metadata": {
    "colab": {
      "provenance": []
    },
    "kernelspec": {
      "name": "python3",
      "display_name": "Python 3"
    },
    "language_info": {
      "name": "python"
    }
  },
  "cells": [
    {
      "cell_type": "markdown",
      "source": [
        "Integrantes: Miguel de Araujo Morello"
      ],
      "metadata": {
        "id": "8kfSk1uCz-vB"
      }
    },
    {
      "cell_type": "markdown",
      "source": [
        " Acredito que devemos seguir as seguintes etapa:\n",
        "\n",
        " Passo 1: Definir o Estoque\n",
        "\n",
        " Passo 2: Operações que é possivel realizar com o Estoque\n",
        "\n",
        " Passo 3: Algo, talvez uma função para atualizar o estoque\n",
        "\n"
      ],
      "metadata": {
        "id": "DvFt4tu73j5e"
      }
    },
    {
      "cell_type": "markdown",
      "source": [
        "Criando a função principal"
      ],
      "metadata": {
        "id": "k7o-ThNBQbSW"
      }
    },
    {
      "cell_type": "code",
      "source": [
        "#definir função principal"
      ],
      "metadata": {
        "id": "dkbLlsEbQaXq"
      },
      "execution_count": null,
      "outputs": []
    },
    {
      "cell_type": "markdown",
      "source": [
        "Função de estoque"
      ],
      "metadata": {
        "id": "fgdY8QWW_fiQ"
      }
    },
    {
      "cell_type": "code",
      "execution_count": 4,
      "metadata": {
        "id": "aHEJVu32z5ue"
      },
      "outputs": [],
      "source": [
        "def definir_estoque():\n",
        "  estoque = {\n",
        "        'agulhas': {\n",
        "            'quantidade': 100,\n",
        "            'preco': 0.10,\n",
        "            'descricao': 'Agulhas para coleta de sangue'\n",
        "        },\n",
        "        'reagentes': {\n",
        "            'quantidade': 50,\n",
        "            'preco': 5.00,\n",
        "            'descricao': 'Reagentes para testes laboratoriais'\n",
        "        },\n",
        "        'seringas': {\n",
        "            'quantidade': 200,\n",
        "            'preco': 0.15,\n",
        "            'descricao': 'Seringas descartáveis'\n",
        "        },\n",
        "        'luvas': {\n",
        "            'quantidade': 300,\n",
        "            'preco': 0.05,\n",
        "            'descricao': 'Luvas de látex descartáveis'\n",
        "        },\n",
        "        'pipetas': {\n",
        "            'quantidade': 150,\n",
        "            'preco': 1.00,\n",
        "            'descricao': 'Pipetas para medição de líquidos'\n",
        "        },\n",
        "        'placas de Petri': {\n",
        "            'quantidade': 80,\n",
        "            'preco': 2.00,\n",
        "            'descricao': 'Placas de Petri para cultivo de microorganismos'\n",
        "        },\n",
        "        'tubos de ensaio': {\n",
        "            'quantidade': 120,\n",
        "            'preco': 0.25,\n",
        "            'descricao': 'Tubos de ensaio de vidro'\n",
        "        },\n",
        "        'balança': {\n",
        "            'quantidade': 5,\n",
        "            'preco': 150.00,\n",
        "            'descricao': 'Balança analítica de precisão'\n",
        "        },\n",
        "        'autoclave': {\n",
        "            'quantidade': 2,\n",
        "            'preco': 3000.00,\n",
        "            'descricao': 'Autoclave para esterilização de materiais'\n",
        "        },\n",
        "        'microscópio': {\n",
        "            'quantidade': 10,\n",
        "            'preco': 1200.00,\n",
        "            'descricao': 'Microscópio óptico para observação de amostras'\n",
        "        }\n",
        "    }\n",
        "  return\n",
        "#print(estoque)"
      ]
    },
    {
      "cell_type": "markdown",
      "source": [
        "Função para o usuário poder atualizar o estoque"
      ],
      "metadata": {
        "id": "mQfYrK8jBRe_"
      }
    },
    {
      "cell_type": "code",
      "source": [
        "nome = input(\"Digite o nome do item: \")\n",
        "descricao = input(\"Digite a descrição do item: \")\n",
        "preco = float(input(\"Digite o preço do item: \"))\n",
        "quantidade = int(input(\"Digite a quantidade do item: \"))\n",
        "\n",
        "estoque[nome] = [quantidade, preco, descricao]\n",
        "if nome not in estoque:\n",
        "    print(f\"Item '{nome}' adicionado com sucesso!\")\n",
        "else:\n",
        "    print(\"Item já existe no estoque.\")\n"
      ],
      "metadata": {
        "colab": {
          "base_uri": "https://localhost:8080/"
        },
        "id": "liwNMXj4BXYc",
        "outputId": "33336bc6-73df-4a61-e7b2-cf38715ce074"
      },
      "execution_count": null,
      "outputs": [
        {
          "output_type": "stream",
          "name": "stdout",
          "text": [
            "Digite o nome do item: ovo\n",
            "Digite a descrição do item: o\n",
            "Digite o preço do item: 9\n",
            "Digite a quantidade do item: 0\n",
            "Item já existe no estoque.\n"
          ]
        }
      ]
    },
    {
      "cell_type": "markdown",
      "source": [
        "FUNÇÃO DE ATUALIZAÇÃO 2.0 VERSÃO CORRETA"
      ],
      "metadata": {
        "id": "9FrCewIQDh0k"
      }
    },
    {
      "cell_type": "code",
      "source": [
        "def atualizar_estoque(estoque):\n",
        "    nome = input(\"Digite o nome do item: \")\n",
        "\n",
        "    # Verifica se o item já existe no estoque\n",
        "    if nome in estoque:\n",
        "        print(f\"Item '{nome}' já existe no estoque.\")\n",
        "    else:\n",
        "        # Se o item não existe, solicita os detalhes para adicionar ao estoque\n",
        "        quantidade = int(input(\"Digite a quantidade do item: \"))\n",
        "        preco = float(input(\"Digite o preço do item: \"))\n",
        "        descricao = input(\"Digite a descrição do item: \")\n",
        "        estoque[nome] = {\n",
        "            'quantidade': quantidade,\n",
        "            'preco': preco,\n",
        "            'descricao': descricao\n",
        "        }\n",
        "        print(f\"Item '{nome}' adicionado com sucesso!\")\n",
        "\n",
        "# Exemplo de uso\n",
        "estoque = definir_estoque()  # Supondo que você já tenha a função definir_estoque\n",
        "atualizar_estoque(estoque)\n",
        "print(estoque)"
      ],
      "metadata": {
        "id": "BuCNIeI5Dgl1"
      },
      "execution_count": null,
      "outputs": []
    },
    {
      "cell_type": "markdown",
      "source": [
        "FUNÇÃO QUE PERMITE O USUÁRIO VER OS ELEMENTOS JÁ EXISTENTES NO ESTOQUE"
      ],
      "metadata": {
        "id": "QQ5B0qEWDo4k"
      }
    },
    {
      "cell_type": "code",
      "source": [
        "def mostrar_estoque(estoque):\n",
        "    if not estoque:\n",
        "        print(\"O estoque está vazio.\")\n",
        "        return\n",
        "\n",
        "    for nome, detalhes in estoque.items():\n",
        "        print(f\"Item: {nome}\")\n",
        "        print(f\"  Quantidade: {detalhes['quantidade']}\")\n",
        "        print(f\"  Preço: R$ {detalhes['preco']:.2f}\")\n",
        "        print(f\"  Descrição: {detalhes['descricao']}\")\n",
        "        print(\"-\" * 30)\n",
        "\n",
        "mostrar_estoque(estoque)"
      ],
      "metadata": {
        "colab": {
          "base_uri": "https://localhost:8080/",
          "height": 1000
        },
        "id": "i2RSi7ifDyGP",
        "outputId": "2b5f168c-8d04-4df5-e2f2-d600d72d04ab"
      },
      "execution_count": null,
      "outputs": [
        {
          "output_type": "stream",
          "name": "stdout",
          "text": [
            "Item: agulhas\n",
            "  Quantidade: 100\n",
            "  Preço: R$ 0.10\n",
            "  Descrição: Agulhas para coleta de sangue\n",
            "------------------------------\n",
            "Item: reagentes\n",
            "  Quantidade: 50\n",
            "  Preço: R$ 5.00\n",
            "  Descrição: Reagentes para testes laboratoriais\n",
            "------------------------------\n",
            "Item: seringas\n",
            "  Quantidade: 200\n",
            "  Preço: R$ 0.15\n",
            "  Descrição: Seringas descartáveis\n",
            "------------------------------\n",
            "Item: luvas\n",
            "  Quantidade: 300\n",
            "  Preço: R$ 0.05\n",
            "  Descrição: Luvas de látex descartáveis\n",
            "------------------------------\n",
            "Item: pipetas\n",
            "  Quantidade: 150\n",
            "  Preço: R$ 1.00\n",
            "  Descrição: Pipetas para medição de líquidos\n",
            "------------------------------\n",
            "Item: placas de Petri\n",
            "  Quantidade: 80\n",
            "  Preço: R$ 2.00\n",
            "  Descrição: Placas de Petri para cultivo de microorganismos\n",
            "------------------------------\n",
            "Item: tubos de ensaio\n",
            "  Quantidade: 120\n",
            "  Preço: R$ 0.25\n",
            "  Descrição: Tubos de ensaio de vidro\n",
            "------------------------------\n",
            "Item: balança\n",
            "  Quantidade: 5\n",
            "  Preço: R$ 150.00\n",
            "  Descrição: Balança analítica de precisão\n",
            "------------------------------\n",
            "Item: autoclave\n",
            "  Quantidade: 2\n",
            "  Preço: R$ 3000.00\n",
            "  Descrição: Autoclave para esterilização de materiais\n",
            "------------------------------\n",
            "Item: microscópio\n",
            "  Quantidade: 10\n",
            "  Preço: R$ 1200.00\n",
            "  Descrição: Microscópio óptico para observação de amostras\n",
            "------------------------------\n",
            "Item: arroz\n"
          ]
        },
        {
          "output_type": "error",
          "ename": "TypeError",
          "evalue": "list indices must be integers or slices, not str",
          "traceback": [
            "\u001b[0;31m---------------------------------------------------------------------------\u001b[0m",
            "\u001b[0;31mTypeError\u001b[0m                                 Traceback (most recent call last)",
            "\u001b[0;32m<ipython-input-14-460b57e74be4>\u001b[0m in \u001b[0;36m<cell line: 13>\u001b[0;34m()\u001b[0m\n\u001b[1;32m     11\u001b[0m         \u001b[0mprint\u001b[0m\u001b[0;34m(\u001b[0m\u001b[0;34m\"-\"\u001b[0m \u001b[0;34m*\u001b[0m \u001b[0;36m30\u001b[0m\u001b[0;34m)\u001b[0m\u001b[0;34m\u001b[0m\u001b[0;34m\u001b[0m\u001b[0m\n\u001b[1;32m     12\u001b[0m \u001b[0;34m\u001b[0m\u001b[0m\n\u001b[0;32m---> 13\u001b[0;31m \u001b[0mmostrar_estoque\u001b[0m\u001b[0;34m(\u001b[0m\u001b[0mestoque\u001b[0m\u001b[0;34m)\u001b[0m\u001b[0;34m\u001b[0m\u001b[0;34m\u001b[0m\u001b[0m\n\u001b[0m",
            "\u001b[0;32m<ipython-input-14-460b57e74be4>\u001b[0m in \u001b[0;36mmostrar_estoque\u001b[0;34m(estoque)\u001b[0m\n\u001b[1;32m      6\u001b[0m     \u001b[0;32mfor\u001b[0m \u001b[0mnome\u001b[0m\u001b[0;34m,\u001b[0m \u001b[0mdetalhes\u001b[0m \u001b[0;32min\u001b[0m \u001b[0mestoque\u001b[0m\u001b[0;34m.\u001b[0m\u001b[0mitems\u001b[0m\u001b[0;34m(\u001b[0m\u001b[0;34m)\u001b[0m\u001b[0;34m:\u001b[0m\u001b[0;34m\u001b[0m\u001b[0;34m\u001b[0m\u001b[0m\n\u001b[1;32m      7\u001b[0m         \u001b[0mprint\u001b[0m\u001b[0;34m(\u001b[0m\u001b[0;34mf\"Item: {nome}\"\u001b[0m\u001b[0;34m)\u001b[0m\u001b[0;34m\u001b[0m\u001b[0;34m\u001b[0m\u001b[0m\n\u001b[0;32m----> 8\u001b[0;31m         \u001b[0mprint\u001b[0m\u001b[0;34m(\u001b[0m\u001b[0;34mf\"  Quantidade: {detalhes['quantidade']}\"\u001b[0m\u001b[0;34m)\u001b[0m\u001b[0;34m\u001b[0m\u001b[0;34m\u001b[0m\u001b[0m\n\u001b[0m\u001b[1;32m      9\u001b[0m         \u001b[0mprint\u001b[0m\u001b[0;34m(\u001b[0m\u001b[0;34mf\"  Preço: R$ {detalhes['preco']:.2f}\"\u001b[0m\u001b[0;34m)\u001b[0m\u001b[0;34m\u001b[0m\u001b[0;34m\u001b[0m\u001b[0m\n\u001b[1;32m     10\u001b[0m         \u001b[0mprint\u001b[0m\u001b[0;34m(\u001b[0m\u001b[0;34mf\"  Descrição: {detalhes['descricao']}\"\u001b[0m\u001b[0;34m)\u001b[0m\u001b[0;34m\u001b[0m\u001b[0;34m\u001b[0m\u001b[0m\n",
            "\u001b[0;31mTypeError\u001b[0m: list indices must be integers or slices, not str"
          ]
        }
      ]
    },
    {
      "cell_type": "markdown",
      "source": [
        "Calcular valor total"
      ],
      "metadata": {
        "id": "xiQskvblGOYQ"
      }
    },
    {
      "cell_type": "code",
      "source": [
        "item_selecionado = 'luvas'\n",
        "\n",
        "#aqui nessa função tem que declarar primeiro o item então primeiro pede para o usuário digitar o item e depois chama a função\n",
        "def calcular_valor_total(estoque, item_selecionado):\n",
        "    if item_selecionado in estoque:\n",
        "        valor_total = estoque[item_selecionado][\"preco\"] * estoque[item_selecionado][\"quantidade\"]\n",
        "        return valor_total\n",
        "    else:\n",
        "        print(\"Esse item não encontrado no estoque.\")\n",
        "        return\n",
        "#valor_total_livros = calcular_valor_total(estoque, item_selecionado)\n",
        "valor_total_livros = calcular_valor_total(estoque, item_selecionado)\n",
        "print(f\"O valor total do estoque é: R$ {valor_total_livros:.2f}\")"
      ],
      "metadata": {
        "colab": {
          "base_uri": "https://localhost:8080/"
        },
        "id": "9MdWr7RUGN4g",
        "outputId": "e4044008-2c67-4efa-adfc-b8f1f8e611d2"
      },
      "execution_count": null,
      "outputs": [
        {
          "output_type": "stream",
          "name": "stdout",
          "text": [
            "O valor total do estoque é: R$ 15.00\n"
          ]
        }
      ]
    }
  ]
}